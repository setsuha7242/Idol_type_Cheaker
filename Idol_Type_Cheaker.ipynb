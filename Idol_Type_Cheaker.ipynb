{
  "nbformat": 4,
  "nbformat_minor": 0,
  "metadata": {
    "colab": {
      "name": "Idol_Type_Cheaker.ipynb",
      "provenance": [],
      "collapsed_sections": []
    },
    "kernelspec": {
      "name": "python3",
      "display_name": "Python 3"
    },
    "accelerator": "GPU"
  },
  "cells": [
    {
      "cell_type": "code",
      "metadata": {
        "id": "O9Xnsu_xFavy"
      },
      "source": [
        "#@markdown ###Driveのマウント\n",
        "#@markdown 自分が作ったときはDiriveをマウントしてcsvをロードした\n",
        "#from google.colab import drive\n",
        "#drive.mount('/content/drive')"
      ],
      "execution_count": null,
      "outputs": []
    },
    {
      "cell_type": "code",
      "metadata": {
        "id": "isR6PmTKYHqi",
        "colab": {
          "base_uri": "https://localhost:8080/"
        },
        "outputId": "5a4e8420-a104-42ae-c9cc-d03da306b164"
      },
      "source": [
        "#@markdown ###gitクローンでcsvをロード(2020/05/24)\n",
        "#@markdown 共有者も実行できるように追加した\n",
        "!git clone https://github.com/tomoe6/Idol_type_Cheaker.git"
      ],
      "execution_count": null,
      "outputs": [
        {
          "output_type": "stream",
          "text": [
            "fatal: destination path 'Idol_type_Cheaker' already exists and is not an empty directory.\n"
          ],
          "name": "stdout"
        }
      ]
    },
    {
      "cell_type": "code",
      "metadata": {
        "id": "h3bOtpSdFa2b"
      },
      "source": [
        "#@markdown ###csvファイル読み込み　 　 \n",
        "#@markdown　> load_data[] -- [Type, ひらがな]\n",
        "load_data = [] #[Type, ひらがな] \n",
        "#旧path = \"/content/drive/My Drive/PythonMachineLearning/Chainer/Idol.csv\"\n",
        "path = \"/content/Idol_type_Cheaker/Idol.csv\"\n",
        "with open(path) as f:\n",
        "    for s_line in f:\n",
        "      load_data.append(s_line.split(\",\")[:3:2])"
      ],
      "execution_count": null,
      "outputs": []
    },
    {
      "cell_type": "code",
      "metadata": {
        "id": "IrBWQQjTFa56"
      },
      "source": [
        "#@markdown ###hiragana関数定義\n",
        "#@markdown >dic[] -- [ひらがな]  \n",
        "#@markdown >hiragana(s: str) --文字列を数字対応表に従いlist型数列を返す\n",
        "dic = []\n",
        "def hiragana(s):\n",
        "  ret = []\n",
        "  for i in s:\n",
        "    if i in dic:\n",
        "      ret.append(dic.index(i))\n",
        "    else:\n",
        "      dic.append(i)\n",
        "      ret.append(dic.index(i))\n",
        "  return ret"
      ],
      "execution_count": null,
      "outputs": []
    },
    {
      "cell_type": "code",
      "metadata": {
        "id": "7FDe4mJxFa8y"
      },
      "source": [
        "#@markdown ###hiragana関数を用いてアイドル名を数列をにする\n",
        "#@markdown >class_data -- アイドルタイプを数字でもつ --Cu: 0, Co: 1, Pa: 2  \n",
        "#@markdown >number_data --アイドル名を数字でもつ  --hiragana()に従う\n",
        "number_data = []\n",
        "class_data = []\n",
        "count = 0\n",
        "for i in load_data:\n",
        "  number_data.append(hiragana(i[1]))\n",
        "  if i[0] == \"Cu\":\n",
        "    count+=1\n",
        "    label = 0\n",
        "  elif i[0] == \"Co\":\n",
        "    count +=1\n",
        "    label = 1\n",
        "  elif i[0] == \"Pa\":\n",
        "    count +=1\n",
        "    label = 2\n",
        "  class_data.append(label)\n",
        "#print(len(number_data),number_data)\n",
        "#print(len(class_data),class_data)\n",
        "#print(count == len(class_data))"
      ],
      "execution_count": null,
      "outputs": []
    },
    {
      "cell_type": "code",
      "metadata": {
        "id": "fnjh6hW8FOiS"
      },
      "source": [
        "#@markdown ###number_dataからarraylistを作成\n",
        "#@markdown >np_data[len(number_data),最大文字数,日本語の数] --数字のindexに1をもつ\n",
        "import numpy as np\n",
        "np_data = np.zeros((190,15,81), dtype = \"float32\")\n",
        "for i,datas in enumerate(number_data):\n",
        "  for k,data in enumerate(datas):\n",
        "    np_data[i,k,data] = 1"
      ],
      "execution_count": null,
      "outputs": []
    },
    {
      "cell_type": "code",
      "metadata": {
        "id": "tWWjoj7-HkCi"
      },
      "source": [
        "#@markdown ###実際に学習に用いるX,Yを作成\n",
        "#@markdown X --((アイドル数,最大文字数*日本語の数),dtype = \"float32\")\n",
        "X = np.zeros((190,1215), dtype = \"float32\")\n",
        "for i in range(190):\n",
        "  X[i] = np_data[i].flatten()\n",
        "#@markdown Y --class_dataをint32,arrayに変換したもの\n",
        "Y = np.array(class_data, dtype = \"int32\")"
      ],
      "execution_count": null,
      "outputs": []
    },
    {
      "cell_type": "code",
      "metadata": {
        "id": "a90bUn-0MDKt",
        "colab": {
          "base_uri": "https://localhost:8080/"
        },
        "outputId": "456397da-2114-45b6-ef0f-990d3c2cb00f"
      },
      "source": [
        "Y.shape"
      ],
      "execution_count": null,
      "outputs": [
        {
          "output_type": "execute_result",
          "data": {
            "text/plain": [
              "(190,)"
            ]
          },
          "metadata": {
            "tags": []
          },
          "execution_count": 25
        }
      ]
    },
    {
      "cell_type": "code",
      "metadata": {
        "id": "ZFmH6gPDMNwi",
        "colab": {
          "base_uri": "https://localhost:8080/"
        },
        "outputId": "db720571-f127-4e0d-a231-cf7f0b8b2a1f"
      },
      "source": [
        "X.shape"
      ],
      "execution_count": null,
      "outputs": [
        {
          "output_type": "execute_result",
          "data": {
            "text/plain": [
              "(190, 1215)"
            ]
          },
          "metadata": {
            "tags": []
          },
          "execution_count": 26
        }
      ]
    },
    {
      "cell_type": "code",
      "metadata": {
        "id": "BhHDHBPjDprp"
      },
      "source": [
        "import chainer\n",
        "import chainer.functions as F\n",
        "import chainer.links as L\n",
        "from chainer import training\n",
        "from chainer.training import extensions\n",
        "\n",
        "class MLP(chainer.Chain):\n",
        "  def __init__(self, n_unis = 1216, n_out = 3):\n",
        "    super(MLP, self).__init__(\n",
        "      l1 = L.Linear(1215, n_unis),\n",
        "      l2 = L.Linear(n_unis, n_unis),\n",
        "      l3 = L.Linear(n_unis, n_out)\n",
        "    )\n",
        "  def __call__(self, x):\n",
        "    h1= F.relu(self.l1(x))\n",
        "    h2 = F.relu(self.l2(h1))\n",
        "    return self.l3(h2)"
      ],
      "execution_count": null,
      "outputs": []
    },
    {
      "cell_type": "code",
      "metadata": {
        "id": "YCRidhjODyPy"
      },
      "source": [
        "from chainer import training, datasets\n",
        "train ,test= datasets.split_dataset_random(chainer.datasets.TupleDataset(X,Y),180)\n",
        "train_iter = chainer.iterators.SerialIterator(train, 10)\n",
        "test_iter = chainer.iterators.SerialIterator(test, 1,repeat=False, shuffle=False)"
      ],
      "execution_count": null,
      "outputs": []
    },
    {
      "cell_type": "code",
      "metadata": {
        "id": "0sES0llCDszU"
      },
      "source": [
        "model = L.Classifier(MLP())\n",
        "optimizer = chainer.optimizers.Adam()\n",
        "optimizer.setup(model)\n",
        "\n",
        "updater = training.StandardUpdater(train_iter, optimizer, device=-1)\n",
        "trainer = training.Trainer(updater, (50, 'epoch'), out=\"result\")\n",
        "trainer.extend(extensions.Evaluator(test_iter, model, device=-1))\n",
        "trainer.extend(extensions.LogReport())\n",
        "trainer.extend(extensions.PrintReport( ['epoch', 'main/loss', 'validation/main/loss', 'main/accuracy', 'validation/main/accuracy']))\n",
        "trainer.extend(extensions.ProgressBar())"
      ],
      "execution_count": null,
      "outputs": []
    },
    {
      "cell_type": "code",
      "metadata": {
        "id": "WvP1so2tDvEC",
        "colab": {
          "base_uri": "https://localhost:8080/"
        },
        "outputId": "52b5dc12-9b21-471b-b561-be969f1114da"
      },
      "source": [
        "trainer.run()"
      ],
      "execution_count": null,
      "outputs": [
        {
          "output_type": "stream",
          "text": [
            "epoch       main/loss   validation/main/loss  main/accuracy  validation/main/accuracy\n",
            "\u001b[J1           1.10715     1.11379               0.361111       0.4                       \n",
            "\u001b[J2           0.667187    1.37178               0.833333       0.3                       \n",
            "\u001b[J3           0.151149    1.95337               0.977778       0.4                       \n",
            "\u001b[J4           0.0230129   1.86153               1              0.4                       \n",
            "\u001b[J5           0.00423454  1.96859               1              0.5                       \n",
            "\u001b[J     total [#####.............................................] 11.11%\n",
            "this epoch [###########################.......................] 55.56%\n",
            "       100 iter, 5 epoch / 50 epochs\n",
            "       inf iters/sec. Estimated time to finish: 0:00:00.\n",
            "\u001b[4A\u001b[J6           0.00118135  2.00327               1              0.4                       \n",
            "\u001b[J7           0.000810185  2.06239               1              0.4                       \n",
            "\u001b[J8           0.00062521  2.0992                1              0.4                       \n",
            "\u001b[J9           0.000525869  2.12576               1              0.4                       \n",
            "\u001b[J10          0.000449981  2.14865               1              0.4                       \n",
            "\u001b[J11          0.000388189  2.17051               1              0.4                       \n",
            "\u001b[J     total [###########.......................................] 22.22%\n",
            "this epoch [#####.............................................] 11.11%\n",
            "       200 iter, 11 epoch / 50 epochs\n",
            "    25.556 iters/sec. Estimated time to finish: 0:00:27.390347.\n",
            "\u001b[4A\u001b[J12          0.000340348  2.19385               1              0.4                       \n",
            "\u001b[J13          0.000299348  2.21715               1              0.4                       \n",
            "\u001b[J14          0.000265267  2.24141               1              0.4                       \n",
            "\u001b[J15          0.000236845  2.264                 1              0.4                       \n",
            "\u001b[J16          0.000212397  2.28767               1              0.4                       \n",
            "\u001b[J     total [################..................................] 33.33%\n",
            "this epoch [#################################.................] 66.67%\n",
            "       300 iter, 16 epoch / 50 epochs\n",
            "    25.424 iters/sec. Estimated time to finish: 0:00:23.599452.\n",
            "\u001b[4A\u001b[J17          0.000191702  2.30937               1              0.4                       \n",
            "\u001b[J18          0.000173224  2.32566               1              0.4                       \n",
            "\u001b[J19          0.000157187  2.34467               1              0.4                       \n",
            "\u001b[J20          0.000143459  2.36459               1              0.4                       \n",
            "\u001b[J21          0.000131777  2.37988               1              0.4                       \n",
            "\u001b[J22          0.000120807  2.39814               1              0.4                       \n",
            "\u001b[J     total [######################............................] 44.44%\n",
            "this epoch [###########.......................................] 22.22%\n",
            "       400 iter, 22 epoch / 50 epochs\n",
            "    25.242 iters/sec. Estimated time to finish: 0:00:19.808054.\n",
            "\u001b[4A\u001b[J23          0.000111538  2.41133               1              0.4                       \n",
            "\u001b[J24          0.000102462  2.42843               1              0.4                       \n",
            "\u001b[J25          9.5137e-05  2.44397               1              0.4                       \n",
            "\u001b[J26          8.82573e-05  2.45891               1              0.4                       \n",
            "\u001b[J27          8.20584e-05  2.47675               1              0.4                       \n",
            "\u001b[J     total [###########################.......................] 55.56%\n",
            "this epoch [######################################............] 77.78%\n",
            "       500 iter, 27 epoch / 50 epochs\n",
            "    25.218 iters/sec. Estimated time to finish: 0:00:15.861868.\n",
            "\u001b[4A\u001b[J28          7.67099e-05  2.4907                1              0.4                       \n",
            "\u001b[J29          7.15256e-05  2.50483               1              0.4                       \n",
            "\u001b[J30          6.69241e-05  2.52062               1              0.4                       \n",
            "\u001b[J31          6.27597e-05  2.53495               1              0.4                       \n",
            "\u001b[J32          5.88311e-05  2.54755               1              0.4                       \n",
            "\u001b[J33          5.5284e-05  2.55883               1              0.4                       \n",
            "\u001b[J     total [#################################.................] 66.67%\n",
            "this epoch [################..................................] 33.33%\n",
            "       600 iter, 33 epoch / 50 epochs\n",
            "    25.251 iters/sec. Estimated time to finish: 0:00:11.880513.\n",
            "\u001b[4A\u001b[J34          5.20971e-05  2.5743                1              0.4                       \n",
            "\u001b[J35          4.91619e-05  2.588                 1              0.4                       \n",
            "\u001b[J36          4.63009e-05  2.59761               1              0.4                       \n",
            "\u001b[J37          4.38637e-05  2.60908               1              0.4                       \n",
            "\u001b[J38          4.15299e-05  2.62046               1              0.4                       \n",
            "\u001b[J     total [######################################............] 77.78%\n",
            "this epoch [############################################......] 88.89%\n",
            "       700 iter, 38 epoch / 50 epochs\n",
            "    25.271 iters/sec. Estimated time to finish: 0:00:07.914313.\n",
            "\u001b[4A\u001b[J39          3.93417e-05  2.63201               1              0.4                       \n",
            "\u001b[J40          3.74158e-05  2.64255               1              0.4                       \n",
            "\u001b[J41          3.55456e-05  2.65565               1              0.4                       \n",
            "\u001b[J42          3.38051e-05  2.67036               1              0.4                       \n",
            "\u001b[J43          3.21971e-05  2.68102               1              0.4                       \n",
            "\u001b[J44          3.06951e-05  2.69113               1              0.4                       \n",
            "\u001b[J     total [############################################......] 88.89%\n",
            "this epoch [######################............................] 44.44%\n",
            "       800 iter, 44 epoch / 50 epochs\n",
            "    24.716 iters/sec. Estimated time to finish: 0:00:04.045893.\n",
            "\u001b[4A\u001b[J45          2.92593e-05  2.7006                1              0.4                       \n",
            "\u001b[J46          2.79533e-05  2.70836               1              0.4                       \n",
            "\u001b[J47          2.67347e-05  2.71894               1              0.4                       \n",
            "\u001b[J48          2.56115e-05  2.73031               1              0.4                       \n",
            "\u001b[J49          2.44882e-05  2.73913               1              0.4                       \n",
            "\u001b[J50          2.35081e-05  2.74765               1              0.4                       \n",
            "\u001b[J     total [##################################################] 100.00%\n",
            "this epoch [..................................................]  0.00%\n",
            "       900 iter, 50 epoch / 50 epochs\n",
            "    23.856 iters/sec. Estimated time to finish: 0:00:00.\n",
            "\u001b[4A\u001b[J"
          ],
          "name": "stdout"
        }
      ]
    },
    {
      "cell_type": "code",
      "metadata": {
        "id": "kbGzIFRNKo1T",
        "colab": {
          "base_uri": "https://localhost:8080/"
        },
        "outputId": "cb38ee1c-5c25-4963-a553-548e401d1a88"
      },
      "source": [
        "#@title アイドルタイプ判別機\n",
        "#@markdown 下に判別したい名前を入力して実行\n",
        "idol_name = \"\\u3086\\u304D\\u306F\" #@param {type:\"string\"}\n",
        "sibuya = hiragana(idol_name)\n",
        "sibuya_date = np.zeros((15,81), dtype = \"float32\")\n",
        "\n",
        "for k,date in enumerate(sibuya):\n",
        "   sibuya_date[k,date] = 1\n",
        "sibuya_date.flatten().shape\n",
        "y = model.predictor(np.array([sibuya_date]).astype(np.float32))\n",
        "print(F.softmax(y).data)\n",
        "print(F.softmax(y).data.argmax(axis=1))\n",
        "res = F.softmax(y).data.argmax(axis=1)[0]\n",
        "if(res == 0): type_idol = \"Cu\"\n",
        "elif res == 1: type_idol = \"Co\"\n",
        "else : type_idol = \"Pa\"\n",
        "print(\"「\"+idol_name+\"」は\"+type_idol+\"です\")\n",
        "#0Cu 1Co 2 Pa\n",
        "#@markdown Cu Co Pa　を名前から判断します\n"
      ],
      "execution_count": null,
      "outputs": [
        {
          "output_type": "stream",
          "text": [
            "[[0.02275672 0.32882094 0.64842236]]\n",
            "[2]\n",
            "「ゆきは」はPaです\n"
          ],
          "name": "stdout"
        }
      ]
    }
  ]
}